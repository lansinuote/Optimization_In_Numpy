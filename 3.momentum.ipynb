{
 "cells": [
  {
   "cell_type": "code",
   "execution_count": 1,
   "id": "4fcd93aa",
   "metadata": {},
   "outputs": [
    {
     "data": {
      "text/plain": [
       "((1503, 5), (1503,))"
      ]
     },
     "execution_count": 1,
     "metadata": {},
     "output_type": "execute_result"
    }
   ],
   "source": [
    "import numpy as np\n",
    "\n",
    "#加载数据\n",
    "data = np.loadtxt(fname='./线性数据.csv', delimiter='\\t')\n",
    "\n",
    "#标准化\n",
    "data -= data.mean(axis=0)\n",
    "data /= data.std(axis=0)\n",
    "\n",
    "x = data[:, :-1]\n",
    "y = data[:, -1]\n",
    "\n",
    "x.shape, y.shape"
   ]
  },
  {
   "cell_type": "code",
   "execution_count": 2,
   "id": "cc6c8e3c",
   "metadata": {},
   "outputs": [],
   "source": [
    "#常量\n",
    "N, M = x.shape\n",
    "\n",
    "#变量\n",
    "w = np.ones(M)\n",
    "b = 0\n",
    "\n",
    "#动量都初始化为0\n",
    "momentum_w = np.zeros(M)\n",
    "momentum_b = 0"
   ]
  },
  {
   "cell_type": "code",
   "execution_count": 3,
   "id": "92163201",
   "metadata": {},
   "outputs": [
    {
     "data": {
      "text/plain": [
       "0.6590042695516539"
      ]
     },
     "execution_count": 3,
     "metadata": {},
     "output_type": "execute_result"
    }
   ],
   "source": [
    "#预测函数\n",
    "def predict(x):\n",
    "    return w.dot(x) + b\n",
    "\n",
    "\n",
    "predict(x[0])"
   ]
  },
  {
   "cell_type": "code",
   "execution_count": 4,
   "id": "a7bb7a80",
   "metadata": {},
   "outputs": [
    {
     "data": {
      "text/plain": [
       "0.21258140154187247"
      ]
     },
     "execution_count": 4,
     "metadata": {},
     "output_type": "execute_result"
    }
   ],
   "source": [
    "#求loss,MSELoss\n",
    "def get_loss(x, y):\n",
    "    pred = predict(x)\n",
    "    loss = (pred - y)**2\n",
    "    return loss\n",
    "\n",
    "\n",
    "get_loss(x[0], y[0])"
   ]
  },
  {
   "cell_type": "code",
   "execution_count": 5,
   "id": "8027d213",
   "metadata": {},
   "outputs": [
    {
     "data": {
      "text/plain": [
       "(array([-0.61003339, -1.05581946,  1.66242713,  1.21242212, -0.59417855]),\n",
       " 0.923131013558981)"
      ]
     },
     "execution_count": 5,
     "metadata": {},
     "output_type": "execute_result"
    }
   ],
   "source": [
    "def get_gradient(x, y):\n",
    "    global w\n",
    "    global b\n",
    "\n",
    "    eps = 1e-3\n",
    "\n",
    "    loss_before = get_loss(x, y)\n",
    "\n",
    "    gradient_w = np.empty(M)\n",
    "    for i in range(M):\n",
    "        w[i] += eps\n",
    "        loss_after = get_loss(x, y)\n",
    "        w[i] -= eps\n",
    "        gradient_w[i] = (loss_after - loss_before) / eps\n",
    "\n",
    "    b += eps\n",
    "    loss_after = get_loss(x, y)\n",
    "    b -= eps\n",
    "    gradient_b = (loss_after - loss_before) / eps\n",
    "\n",
    "    return gradient_w, gradient_b\n",
    "\n",
    "\n",
    "get_gradient(x[0], y[0])"
   ]
  },
  {
   "cell_type": "code",
   "execution_count": 6,
   "id": "f39e0125",
   "metadata": {},
   "outputs": [
    {
     "data": {
      "text/plain": [
       "11073.905141728206"
      ]
     },
     "execution_count": 6,
     "metadata": {},
     "output_type": "execute_result"
    }
   ],
   "source": [
    "def total_loss():\n",
    "    loss = 0\n",
    "    for i in range(N):\n",
    "        loss += get_loss(x[i], y[i])\n",
    "    return loss\n",
    "\n",
    "\n",
    "total_loss()"
   ]
  },
  {
   "cell_type": "code",
   "execution_count": 7,
   "id": "c371c6a4",
   "metadata": {},
   "outputs": [
    {
     "name": "stdout",
     "output_type": "stream",
     "text": [
      "0 [-4.35683357  4.61375434  1.50384418  2.91083043  2.96213566] -4.022402214293841 11044.88570074484\n",
      "150 [ 1.26339579  2.13768158  0.49321428 -1.51848376  3.5785042 ] -1.7176170960084935 1967.1697066194426\n",
      "300 [ 5.80970624e-03  3.55685572e+00  3.82822053e+00 -2.58323564e-01\n",
      "  1.07002133e+01] 2.0649671248152166 947.1121093652372\n",
      "450 [-2.26148992  3.8055673  -3.18437755 -3.87469838 -0.61715981] 0.7950908166330994 815.4883875626289\n",
      "600 [1.55949644 0.79231053 3.14007815 3.71824435 0.98449926] -0.5781588479929312 783.2820118211715\n",
      "750 [ 3.59572027 -0.74530488  0.72892403 -0.15447051 -4.33429161] -2.0781779575632005 753.5637854055667\n",
      "900 [ 0.3379927   2.54425898 -4.14378216  0.92339395  0.76440147] 0.8774161483117863 769.3244441314099\n",
      "1050 [-1.00006534 -5.83176015 -5.28599293 -5.19888383 -3.62367306] 2.5986887635740827 742.322126662018\n",
      "1200 [ 1.32568154 -8.98944316  8.03060836 -1.84855209 -1.93601743] -4.04468557258265 753.4751326083475\n",
      "1350 [ 1.82402337 -1.95342977  1.07956753  2.00744178 -4.75462661] -2.284159092719058 734.9285345602206\n"
     ]
    }
   ],
   "source": [
    "plt_x = []\n",
    "plt_y = []\n",
    "for epoch in range(1500):\n",
    "    i = np.random.randint(N)\n",
    "\n",
    "    gradient_w, gradient_b = get_gradient(x[i], y[i])\n",
    "\n",
    "    #这是更新动量的数学公式,0.8是过去动量的权重\n",
    "    momentum_w = 0.8 * momentum_w + gradient_w\n",
    "    momentum_b = 0.8 * momentum_b + gradient_b\n",
    "\n",
    "    #这里更新参数不再使用梯度,而是使用动量\n",
    "    w -= momentum_w * 1e-3\n",
    "    b -= momentum_b * 1e-3\n",
    "\n",
    "    #思考一下,在时刻0,动量都是0.此时更新动量,动量就等于梯度.\n",
    "    #也就是说,再时刻0,其实就是再用梯度下降.\n",
    "    #时刻1,是上一个时刻的梯度乘以0.8,再加上当前时刻的梯度\n",
    "    #所以在时刻1,差不多可以认为是梯度乘以了1.8.不过这里面两部分的梯度是在两个不同的点上评估出来的.\n",
    "    #在时刻2,差不多等同于时刻1.往后都差不多.\n",
    "\n",
    "    plt_x.append(epoch)\n",
    "    plt_y.append(total_loss())\n",
    "\n",
    "    if epoch % 150 == 0:\n",
    "        print(epoch, momentum_w, momentum_b, total_loss())"
   ]
  },
  {
   "cell_type": "code",
   "execution_count": 8,
   "id": "0471a70d",
   "metadata": {
    "scrolled": true
   },
   "outputs": [
    {
     "data": {
      "image/png": "[encoded data removed]",
      "text/plain": [
       "<Figure size 432x288 with 1 Axes>"
      ]
     },
     "metadata": {
      "needs_background": "light"
     },
     "output_type": "display_data"
    }
   ],
   "source": [
    "from matplotlib import pyplot as plt\n",
    "%matplotlib inline\n",
    "\n",
    "plt.plot(plt_x, plt_y)\n",
    "plt.show()"
   ]
  }
 ],
 "metadata": {
  "kernelspec": {
   "display_name": "Python 3 (ipykernel)",
   "language": "python",
   "name": "python3"
  },
  "language_info": {
   "codemirror_mode": {
    "name": "ipython",
    "version": 3
   },
   "file_extension": ".py",
   "mimetype": "text/x-python",
   "name": "python",
   "nbconvert_exporter": "python",
   "pygments_lexer": "ipython3",
   "version": "3.8.11"
  }
 },
 "nbformat": 4,
 "nbformat_minor": 5
}
