{
 "cells": [
  {
   "cell_type": "code",
   "execution_count": 1,
   "id": "4fcd93aa",
   "metadata": {},
   "outputs": [
    {
     "data": {
      "text/plain": [
       "((1503, 5), (1503,))"
      ]
     },
     "execution_count": 1,
     "metadata": {},
     "output_type": "execute_result"
    }
   ],
   "source": [
    "import numpy as np\n",
    "\n",
    "#加载数据\n",
    "data = np.loadtxt(fname='./线性数据.csv', delimiter='\\t')\n",
    "\n",
    "#标准化\n",
    "data -= data.mean(axis=0)\n",
    "data /= data.std(axis=0)\n",
    "\n",
    "x = data[:, :-1]\n",
    "y = data[:, -1]\n",
    "\n",
    "x.shape, y.shape"
   ]
  },
  {
   "cell_type": "code",
   "execution_count": 2,
   "id": "cc6c8e3c",
   "metadata": {},
   "outputs": [],
   "source": [
    "#常量\n",
    "N, M = x.shape\n",
    "\n",
    "#变量\n",
    "w = np.ones(M)\n",
    "b = 0\n",
    "\n",
    "#初始化S为全0\n",
    "S_w = np.zeros(M)\n",
    "S_b = 0\n",
    "\n",
    "v_w = np.zeros(M)\n",
    "v_b = 0"
   ]
  },
  {
   "cell_type": "code",
   "execution_count": 3,
   "id": "92163201",
   "metadata": {},
   "outputs": [
    {
     "data": {
      "text/plain": [
       "0.6590042695516539"
      ]
     },
     "execution_count": 3,
     "metadata": {},
     "output_type": "execute_result"
    }
   ],
   "source": [
    "#预测函数\n",
    "def predict(x):\n",
    "    return w.dot(x) + b\n",
    "\n",
    "\n",
    "predict(x[0])"
   ]
  },
  {
   "cell_type": "code",
   "execution_count": 4,
   "id": "a7bb7a80",
   "metadata": {},
   "outputs": [
    {
     "data": {
      "text/plain": [
       "0.21258140154187247"
      ]
     },
     "execution_count": 4,
     "metadata": {},
     "output_type": "execute_result"
    }
   ],
   "source": [
    "#求loss,MSELoss\n",
    "def get_loss(x, y):\n",
    "    pred = predict(x)\n",
    "    loss = (pred - y)**2\n",
    "    return loss\n",
    "\n",
    "\n",
    "get_loss(x[0], y[0])"
   ]
  },
  {
   "cell_type": "code",
   "execution_count": 5,
   "id": "8027d213",
   "metadata": {},
   "outputs": [
    {
     "data": {
      "text/plain": [
       "(array([-0.61003339, -1.05581946,  1.66242713,  1.21242212, -0.59417855]),\n",
       " 0.923131013558981)"
      ]
     },
     "execution_count": 5,
     "metadata": {},
     "output_type": "execute_result"
    }
   ],
   "source": [
    "def get_gradient(x, y):\n",
    "    global w\n",
    "    global b\n",
    "\n",
    "    eps = 1e-3\n",
    "\n",
    "    loss_before = get_loss(x, y)\n",
    "\n",
    "    gradient_w = np.empty(M)\n",
    "    for i in range(M):\n",
    "        w[i] += eps\n",
    "        loss_after = get_loss(x, y)\n",
    "        w[i] -= eps\n",
    "        gradient_w[i] = (loss_after - loss_before) / eps\n",
    "\n",
    "    b += eps\n",
    "    loss_after = get_loss(x, y)\n",
    "    b -= eps\n",
    "    gradient_b = (loss_after - loss_before) / eps\n",
    "\n",
    "    return gradient_w, gradient_b\n",
    "\n",
    "\n",
    "get_gradient(x[0], y[0])"
   ]
  },
  {
   "cell_type": "code",
   "execution_count": 6,
   "id": "f39e0125",
   "metadata": {},
   "outputs": [
    {
     "data": {
      "text/plain": [
       "11073.905141728206"
      ]
     },
     "execution_count": 6,
     "metadata": {},
     "output_type": "execute_result"
    }
   ],
   "source": [
    "def total_loss():\n",
    "    loss = 0\n",
    "    for i in range(N):\n",
    "        loss += get_loss(x[i], y[i])\n",
    "    return loss\n",
    "\n",
    "\n",
    "total_loss()"
   ]
  },
  {
   "cell_type": "code",
   "execution_count": 7,
   "id": "c371c6a4",
   "metadata": {},
   "outputs": [
    {
     "name": "stdout",
     "output_type": "stream",
     "text": [
      "500 [0.08904127 0.71062389] [16.68083241  9.3870837 ] 1261.5118603011992\n",
      "1000 [-0.90368761  0.83072632] [8.3751223  4.76494681] 749.9516889645644\n",
      "1500 [-0.30210063  0.02406904] [5.98086602 3.792364  ] 745.5930763832396\n",
      "2000 [ 0.05851974 -0.52552324] [5.03242601 3.45097686] 734.1425192541457\n",
      "2500 [ 0.19785822 -0.16807166] [4.55122551 2.92449296] 763.0359728232618\n",
      "3000 [ 0.11518987 -0.08617003] [4.08077263 2.93377002] 746.4590779281906\n",
      "3500 [ 0.14053857 -0.11983124] [3.52452827 2.59132747] 783.7272638890388\n",
      "4000 [0.03610707 0.36194797] [3.26520532 2.42821712] 766.6407173851062\n",
      "4500 [-0.24672945  0.18166294] [3.41205737 3.01430322] 791.864659000636\n",
      "5000 [ 0.1558802  -0.19912752] [3.24213769 2.86521236] 788.53176983857\n"
     ]
    }
   ],
   "source": [
    "plt_x = []\n",
    "plt_y = []\n",
    "\n",
    "for t in range(1, 5500):\n",
    "    i = np.random.randint(N)\n",
    "    gradient_w, gradient_b = get_gradient(x[i], y[i])\n",
    "\n",
    "    v_w = 0.9 * v_w + 0.1 * gradient_w\n",
    "    v_b = 0.9 * v_b + 0.1 * gradient_b\n",
    "\n",
    "    #S的计算和rmsprop完全一致\n",
    "    S_w = 0.999 * S_w + 0.001 * gradient_w**2\n",
    "    S_b = 0.999 * S_b + 0.001 * gradient_b**2\n",
    "\n",
    "    #根据以上公式,在时刻0\n",
    "    #v = [0.1 * gradient_0]\n",
    "\n",
    "    #这可能太过于小,为了消除这个影响,需要做偏差修正,也就是除以系数\n",
    "    #v = 0.1 * sigma[0.9**(t-i) * gradient_i]\n",
    "    #S = 0.001 * sigma[0.999**(t-i) * gradient_i**2]\n",
    "    \n",
    "    #将梯度的系数部分整理得到\n",
    "    #0.1 * sigma[0.9**(t-i)] = 1-0.9**t\n",
    "\n",
    "    #偏差修正\n",
    "    v_hat_w = v_w / (1 - 0.9**t)\n",
    "    v_hat_b = v_b / (1 - 0.9**t)\n",
    "    S_hat_w = S_w / (1 - 0.999**t)\n",
    "    S_hat_b = S_b / (1 - 0.999**t)\n",
    "\n",
    "    #下面是adam参数更新的公式\n",
    "    #这里的1e-2是超参数lr\n",
    "    gradient_w = (1e-2 * v_hat_w) / (S_hat_w**0.5 + 1e-6)\n",
    "    gradient_b = (1e-2 * v_hat_b) / (S_hat_b**0.5 + 1e-6)\n",
    "\n",
    "    #更新参数\n",
    "    w -= gradient_w\n",
    "    b -= gradient_b\n",
    "\n",
    "    plt_x.append(t)\n",
    "    plt_y.append(total_loss())\n",
    "\n",
    "    if t % 500 == 0:\n",
    "        print(t, v_hat_w[:2], S_hat_w[:2], total_loss())"
   ]
  },
  {
   "cell_type": "code",
   "execution_count": 8,
   "id": "0471a70d",
   "metadata": {
    "scrolled": true
   },
   "outputs": [
    {
     "data": {
      "image/png": "[encoded data removed]",
      "text/plain": [
       "<Figure size 432x288 with 1 Axes>"
      ]
     },
     "metadata": {
      "needs_background": "light"
     },
     "output_type": "display_data"
    }
   ],
   "source": [
    "from matplotlib import pyplot as plt\n",
    "%matplotlib inline\n",
    "\n",
    "plt.plot(plt_x, plt_y)\n",
    "plt.show()"
   ]
  }
 ],
 "metadata": {
  "kernelspec": {
   "display_name": "Python 3 (ipykernel)",
   "language": "python",
   "name": "python3"
  },
  "language_info": {
   "codemirror_mode": {
    "name": "ipython",
    "version": 3
   },
   "file_extension": ".py",
   "mimetype": "text/x-python",
   "name": "python",
   "nbconvert_exporter": "python",
   "pygments_lexer": "ipython3",
   "version": "3.8.11"
  }
 },
 "nbformat": 4,
 "nbformat_minor": 5
}
