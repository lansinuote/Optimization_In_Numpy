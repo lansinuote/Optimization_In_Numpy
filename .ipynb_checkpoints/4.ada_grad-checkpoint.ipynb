{
 "cells": [
  {
   "cell_type": "code",
   "execution_count": 1,
   "id": "4fcd93aa",
   "metadata": {},
   "outputs": [
    {
     "data": {
      "text/plain": [
       "((1503, 5), (1503,))"
      ]
     },
     "execution_count": 1,
     "metadata": {},
     "output_type": "execute_result"
    }
   ],
   "source": [
    "import numpy as np\n",
    "\n",
    "#加载数据\n",
    "data = np.loadtxt(fname='./线性数据.csv', delimiter='\\t')\n",
    "\n",
    "#标准化\n",
    "data -= data.mean(axis=0)\n",
    "data /= data.std(axis=0)\n",
    "\n",
    "x = data[:, :-1]\n",
    "y = data[:, -1]\n",
    "\n",
    "x.shape, y.shape"
   ]
  },
  {
   "cell_type": "code",
   "execution_count": 2,
   "id": "cc6c8e3c",
   "metadata": {},
   "outputs": [
    {
     "data": {
      "text/plain": [
       "array([0., 0., 0., 0., 0.])"
      ]
     },
     "execution_count": 2,
     "metadata": {},
     "output_type": "execute_result"
    }
   ],
   "source": [
    "#常量\n",
    "N, M = x.shape\n",
    "\n",
    "#变量\n",
    "w = np.ones(M)\n",
    "b = 0\n",
    "\n",
    "#初始化S为全0\n",
    "S_w = np.zeros(M)\n",
    "S_b = 0\n",
    "\n",
    "S_w"
   ]
  },
  {
   "cell_type": "code",
   "execution_count": 3,
   "id": "92163201",
   "metadata": {},
   "outputs": [
    {
     "data": {
      "text/plain": [
       "0.6590042695516539"
      ]
     },
     "execution_count": 3,
     "metadata": {},
     "output_type": "execute_result"
    }
   ],
   "source": [
    "#预测函数\n",
    "def predict(x):\n",
    "    return w.dot(x) + b\n",
    "\n",
    "\n",
    "predict(x[0])"
   ]
  },
  {
   "cell_type": "code",
   "execution_count": 4,
   "id": "a7bb7a80",
   "metadata": {},
   "outputs": [
    {
     "data": {
      "text/plain": [
       "0.21258140154187247"
      ]
     },
     "execution_count": 4,
     "metadata": {},
     "output_type": "execute_result"
    }
   ],
   "source": [
    "#求loss,MSELoss\n",
    "def get_loss(x, y):\n",
    "    pred = predict(x)\n",
    "    loss = (pred - y)**2\n",
    "    return loss\n",
    "\n",
    "\n",
    "get_loss(x[0], y[0])"
   ]
  },
  {
   "cell_type": "code",
   "execution_count": 5,
   "id": "8027d213",
   "metadata": {},
   "outputs": [
    {
     "data": {
      "text/plain": [
       "(array([-0.61003339, -1.05581946,  1.66242713,  1.21242212, -0.59417855]),\n",
       " 0.923131013558981)"
      ]
     },
     "execution_count": 5,
     "metadata": {},
     "output_type": "execute_result"
    }
   ],
   "source": [
    "def get_gradient(x, y):\n",
    "    global w\n",
    "    global b\n",
    "\n",
    "    eps = 1e-3\n",
    "\n",
    "    loss_before = get_loss(x, y)\n",
    "\n",
    "    gradient_w = np.empty(M)\n",
    "    for i in range(M):\n",
    "        w[i] += eps\n",
    "        loss_after = get_loss(x, y)\n",
    "        w[i] -= eps\n",
    "        gradient_w[i] = (loss_after - loss_before) / eps\n",
    "\n",
    "    b += eps\n",
    "    loss_after = get_loss(x, y)\n",
    "    b -= eps\n",
    "    gradient_b = (loss_after - loss_before) / eps\n",
    "\n",
    "    return gradient_w, gradient_b\n",
    "\n",
    "\n",
    "get_gradient(x[0], y[0])"
   ]
  },
  {
   "cell_type": "code",
   "execution_count": 6,
   "id": "f39e0125",
   "metadata": {},
   "outputs": [
    {
     "data": {
      "text/plain": [
       "11073.905141728206"
      ]
     },
     "execution_count": 6,
     "metadata": {},
     "output_type": "execute_result"
    }
   ],
   "source": [
    "def total_loss():\n",
    "    loss = 0\n",
    "    for i in range(N):\n",
    "        loss += get_loss(x[i], y[i])\n",
    "    return loss\n",
    "\n",
    "\n",
    "total_loss()"
   ]
  },
  {
   "cell_type": "code",
   "execution_count": 7,
   "id": "c371c6a4",
   "metadata": {},
   "outputs": [
    {
     "name": "stdout",
     "output_type": "stream",
     "text": [
      "0 [0.02348118 0.05140723 0.0153264  0.01141825 0.03465209] 0.014058087368505013 10246.765269340094\n",
      "150 [0.00215905 0.00213966 0.0025248  0.0023185  0.00215242] 0.0024356945540773096 2658.3900946275558\n",
      "300 [0.00159518 0.00180842 0.0019631  0.00191729 0.00173008] 0.0019876188630781272 1600.8100316915763\n",
      "450 [0.00148661 0.00166541 0.00178354 0.00173962 0.00157404] 0.0017842433083993126 1186.465991584585\n",
      "600 [0.00139184 0.00156629 0.00167125 0.00164534 0.00149001] 0.0016826253755351525 1018.0084411998928\n",
      "750 [0.00132517 0.00150278 0.00158741 0.00157468 0.00142465] 0.001594262705724423 927.9759431415143\n",
      "900 [0.0012664  0.00144711 0.00152095 0.00150801 0.00135752] 0.0015236251237426357 861.6745940332113\n",
      "1050 [0.00123801 0.00141408 0.0014759  0.00146659 0.00133255] 0.001476298163704934 824.5775032016687\n",
      "1200 [0.00121116 0.00136314 0.001434   0.00142441 0.00128068] 0.001429332532480186 807.1329761191264\n",
      "1350 [0.00116843 0.0013307  0.00139645 0.00138838 0.00124704] 0.0013899172750459162 791.1949098503449\n",
      "1500 [0.00115129 0.00130284 0.0013622  0.00136147 0.00122016] 0.0013561117340229432 788.5470016064282\n",
      "1650 [0.00111086 0.00126146 0.00132726 0.00132571 0.00119364] 0.0013234756456931064 783.241050040833\n",
      "1800 [0.00105912 0.00119525 0.00128706 0.00128536 0.00116119] 0.0012821836202760327 776.5490903516861\n",
      "1950 [0.00101795 0.00115106 0.00125265 0.00124849 0.00112686] 0.0012443142251112867 767.7869135624381\n",
      "2100 [0.00099775 0.00112372 0.00122065 0.00122    0.00111091] 0.0012130252246838496 762.3245228610506\n",
      "2250 [0.00098704 0.00109155 0.00119765 0.00120011 0.00109044] 0.00119230318143276 757.1151773657198\n",
      "2400 [0.00096106 0.00106878 0.00117239 0.00118274 0.00108084] 0.0011689278828959015 754.8130624984661\n"
     ]
    }
   ],
   "source": [
    "plt_x = []\n",
    "plt_y = []\n",
    "for epoch in range(2500):\n",
    "    i = np.random.randint(N)\n",
    "    gradient_w, gradient_b = get_gradient(x[i], y[i])\n",
    "\n",
    "    #adagrad的特点是每个变量都有属于自己的lr\n",
    "    #要计算各个变量的lr,先要计算S\n",
    "    #这是S的计算公式\n",
    "    S_w = S_w + gradient_w**2\n",
    "    S_b = S_b + gradient_b**2\n",
    "\n",
    "    #计算lr的公式,其中的1e-1是原本的lr,1e-6是防止除0的\n",
    "    lr_w = 1e-1 / ((S_w + 1e-6)**0.5)\n",
    "    lr_b = 1e-1 / ((S_b + 1e-6)**0.5)\n",
    "\n",
    "    #所以在时刻0,lr就等于梯度的倒数\n",
    "    #梯度大的变量会有小lr,梯度小的变量会有大lr\n",
    "    #往后的每一个时刻,都是类似动量法,考虑上一步的梯度\n",
    "\n",
    "    w -= gradient_w * lr_w\n",
    "    b -= gradient_b * lr_b\n",
    "\n",
    "    plt_x.append(epoch)\n",
    "    plt_y.append(total_loss())\n",
    "\n",
    "    if epoch % 150 == 0:\n",
    "        print(epoch, lr_w, lr_b, total_loss())"
   ]
  },
  {
   "cell_type": "code",
   "execution_count": 8,
   "id": "0471a70d",
   "metadata": {
    "scrolled": true
   },
   "outputs": [
    {
     "data": {
      "image/png": "[encoded data removed]",
      "text/plain": [
       "<Figure size 432x288 with 1 Axes>"
      ]
     },
     "metadata": {
      "needs_background": "light"
     },
     "output_type": "display_data"
    }
   ],
   "source": [
    "from matplotlib import pyplot as plt\n",
    "%matplotlib inline\n",
    "\n",
    "plt.plot(plt_x, plt_y)\n",
    "plt.show()"
   ]
  }
 ],
 "metadata": {
  "kernelspec": {
   "display_name": "Python 3 (ipykernel)",
   "language": "python",
   "name": "python3"
  },
  "language_info": {
   "codemirror_mode": {
    "name": "ipython",
    "version": 3
   },
   "file_extension": ".py",
   "mimetype": "text/x-python",
   "name": "python",
   "nbconvert_exporter": "python",
   "pygments_lexer": "ipython3",
   "version": "3.8.11"
  }
 },
 "nbformat": 4,
 "nbformat_minor": 5
}
