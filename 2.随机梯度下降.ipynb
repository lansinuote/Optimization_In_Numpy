{
 "cells": [
  {
   "cell_type": "code",
   "execution_count": 1,
   "id": "4fcd93aa",
   "metadata": {},
   "outputs": [
    {
     "data": {
      "text/plain": [
       "((1503, 5), (1503,))"
      ]
     },
     "execution_count": 1,
     "metadata": {},
     "output_type": "execute_result"
    }
   ],
   "source": [
    "import numpy as np\n",
    "\n",
    "#加载数据\n",
    "data = np.loadtxt(fname='./线性数据.csv', delimiter='\\t')\n",
    "\n",
    "#标准化\n",
    "data -= data.mean(axis=0)\n",
    "data /= data.std(axis=0)\n",
    "\n",
    "x = data[:, :-1]\n",
    "y = data[:, -1]\n",
    "\n",
    "x.shape, y.shape"
   ]
  },
  {
   "cell_type": "code",
   "execution_count": 2,
   "id": "cc6c8e3c",
   "metadata": {},
   "outputs": [],
   "source": [
    "#常量\n",
    "N, M = x.shape\n",
    "\n",
    "#变量\n",
    "w = np.ones(M)\n",
    "b = 0"
   ]
  },
  {
   "cell_type": "code",
   "execution_count": 3,
   "id": "92163201",
   "metadata": {},
   "outputs": [
    {
     "data": {
      "text/plain": [
       "0.6590042695516539"
      ]
     },
     "execution_count": 3,
     "metadata": {},
     "output_type": "execute_result"
    }
   ],
   "source": [
    "#预测函数\n",
    "def predict(x):\n",
    "    return w.dot(x) + b\n",
    "\n",
    "\n",
    "predict(x[0])"
   ]
  },
  {
   "cell_type": "code",
   "execution_count": 4,
   "id": "a7bb7a80",
   "metadata": {},
   "outputs": [
    {
     "data": {
      "text/plain": [
       "0.21258140154187247"
      ]
     },
     "execution_count": 4,
     "metadata": {},
     "output_type": "execute_result"
    }
   ],
   "source": [
    "#求loss,MSELoss\n",
    "def get_loss(x, y):\n",
    "    pred = predict(x)\n",
    "    loss = (pred - y)**2\n",
    "    return loss\n",
    "\n",
    "\n",
    "get_loss(x[0], y[0])"
   ]
  },
  {
   "cell_type": "code",
   "execution_count": 5,
   "id": "8027d213",
   "metadata": {},
   "outputs": [
    {
     "data": {
      "text/plain": [
       "(array([-0.61003339, -1.05581946,  1.66242713,  1.21242212, -0.59417855]),\n",
       " 0.923131013558981)"
      ]
     },
     "execution_count": 5,
     "metadata": {},
     "output_type": "execute_result"
    }
   ],
   "source": [
    "def get_gradient(x, y):\n",
    "    global w\n",
    "    global b\n",
    "\n",
    "    eps = 1e-3\n",
    "\n",
    "    loss_before = get_loss(x, y)\n",
    "\n",
    "    gradient_w = np.empty(M)\n",
    "    for i in range(M):\n",
    "        w[i] += eps\n",
    "        loss_after = get_loss(x, y)\n",
    "        w[i] -= eps\n",
    "        gradient_w[i] = (loss_after - loss_before) / eps\n",
    "\n",
    "    b += eps\n",
    "    loss_after = get_loss(x, y)\n",
    "    b -= eps\n",
    "    gradient_b = (loss_after - loss_before) / eps\n",
    "\n",
    "    return gradient_w, gradient_b\n",
    "\n",
    "\n",
    "get_gradient(x[0], y[0])"
   ]
  },
  {
   "cell_type": "code",
   "execution_count": 6,
   "id": "f39e0125",
   "metadata": {},
   "outputs": [
    {
     "data": {
      "text/plain": [
       "11073.905141728206"
      ]
     },
     "execution_count": 6,
     "metadata": {},
     "output_type": "execute_result"
    }
   ],
   "source": [
    "def total_loss():\n",
    "    loss = 0\n",
    "    for i in range(N):\n",
    "        loss += get_loss(x[i], y[i])\n",
    "    return loss\n",
    "\n",
    "\n",
    "total_loss()"
   ]
  },
  {
   "cell_type": "code",
   "execution_count": 7,
   "id": "c371c6a4",
   "metadata": {},
   "outputs": [
    {
     "name": "stdout",
     "output_type": "stream",
     "text": [
      "0 11038.895201527894\n",
      "150 6696.3736283721655\n",
      "300 4354.119709336485\n",
      "450 3004.4953025777063\n",
      "600 2310.68634531403\n",
      "750 1839.580107951638\n",
      "900 1549.8047186884628\n",
      "1050 1278.2079624059054\n",
      "1200 1099.1810250366634\n",
      "1350 986.6025037947752\n",
      "1500 921.4757031198328\n",
      "1650 879.159069825457\n",
      "1800 853.2767252227716\n",
      "1950 835.2496534941863\n",
      "2100 812.3758750332744\n",
      "2250 794.1165878394305\n",
      "2400 786.9647280480957\n"
     ]
    }
   ],
   "source": [
    "plt_x = []\n",
    "plt_y = []\n",
    "for epoch in range(2500):\n",
    "    i = np.random.randint(N)\n",
    "    gradient_w, gradient_b = get_gradient(x[i], y[i])\n",
    "    w -= gradient_w * 1e-3\n",
    "    b -= gradient_b * 1e-3\n",
    "\n",
    "    plt_x.append(epoch)\n",
    "    plt_y.append(total_loss())\n",
    "\n",
    "    if epoch % 150 == 0:\n",
    "        print(epoch, total_loss())"
   ]
  },
  {
   "cell_type": "code",
   "execution_count": 8,
   "id": "0471a70d",
   "metadata": {
    "scrolled": true
   },
   "outputs": [
    {
     "data": {
      "image/png": "[encoded data removed]",
      "text/plain": [
       "<Figure size 432x288 with 1 Axes>"
      ]
     },
     "metadata": {
      "needs_background": "light"
     },
     "output_type": "display_data"
    }
   ],
   "source": [
    "from matplotlib import pyplot as plt\n",
    "%matplotlib inline\n",
    "\n",
    "plt.plot(plt_x, plt_y)\n",
    "plt.show()"
   ]
  }
 ],
 "metadata": {
  "kernelspec": {
   "display_name": "Python 3 (ipykernel)",
   "language": "python",
   "name": "python3"
  },
  "language_info": {
   "codemirror_mode": {
    "name": "ipython",
    "version": 3
   },
   "file_extension": ".py",
   "mimetype": "text/x-python",
   "name": "python",
   "nbconvert_exporter": "python",
   "pygments_lexer": "ipython3",
   "version": "3.8.11"
  }
 },
 "nbformat": 4,
 "nbformat_minor": 5
}
