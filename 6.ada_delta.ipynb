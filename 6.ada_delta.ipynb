{
 "cells": [
  {
   "cell_type": "code",
   "execution_count": 1,
   "id": "4fcd93aa",
   "metadata": {},
   "outputs": [
    {
     "data": {
      "text/plain": [
       "((1503, 5), (1503,))"
      ]
     },
     "execution_count": 1,
     "metadata": {},
     "output_type": "execute_result"
    }
   ],
   "source": [
    "import numpy as np\n",
    "\n",
    "#加载数据\n",
    "data = np.loadtxt(fname='./线性数据.csv', delimiter='\\t')\n",
    "\n",
    "#标准化\n",
    "data -= data.mean(axis=0)\n",
    "data /= data.std(axis=0)\n",
    "\n",
    "x = data[:, :-1]\n",
    "y = data[:, -1]\n",
    "\n",
    "x.shape, y.shape"
   ]
  },
  {
   "cell_type": "code",
   "execution_count": 2,
   "id": "cc6c8e3c",
   "metadata": {},
   "outputs": [],
   "source": [
    "#常量\n",
    "N, M = x.shape\n",
    "\n",
    "#变量\n",
    "w = np.ones(M)\n",
    "b = 0\n",
    "\n",
    "#初始化S为全0\n",
    "S_w = np.zeros(M)\n",
    "S_b = 0\n",
    "\n",
    "#初始化delta为全0\n",
    "delta_w = np.zeros(M)\n",
    "delta_b = 0"
   ]
  },
  {
   "cell_type": "code",
   "execution_count": 3,
   "id": "92163201",
   "metadata": {},
   "outputs": [
    {
     "data": {
      "text/plain": [
       "0.6590042695516539"
      ]
     },
     "execution_count": 3,
     "metadata": {},
     "output_type": "execute_result"
    }
   ],
   "source": [
    "#预测函数\n",
    "def predict(x):\n",
    "    return w.dot(x) + b\n",
    "\n",
    "\n",
    "predict(x[0])"
   ]
  },
  {
   "cell_type": "code",
   "execution_count": 4,
   "id": "a7bb7a80",
   "metadata": {},
   "outputs": [
    {
     "data": {
      "text/plain": [
       "0.21258140154187247"
      ]
     },
     "execution_count": 4,
     "metadata": {},
     "output_type": "execute_result"
    }
   ],
   "source": [
    "#求loss,MSELoss\n",
    "def get_loss(x, y):\n",
    "    pred = predict(x)\n",
    "    loss = (pred - y)**2\n",
    "    return loss\n",
    "\n",
    "\n",
    "get_loss(x[0], y[0])"
   ]
  },
  {
   "cell_type": "code",
   "execution_count": 5,
   "id": "8027d213",
   "metadata": {},
   "outputs": [
    {
     "data": {
      "text/plain": [
       "(array([-0.61003339, -1.05581946,  1.66242713,  1.21242212, -0.59417855]),\n",
       " 0.923131013558981)"
      ]
     },
     "execution_count": 5,
     "metadata": {},
     "output_type": "execute_result"
    }
   ],
   "source": [
    "def get_gradient(x, y):\n",
    "    global w\n",
    "    global b\n",
    "\n",
    "    eps = 1e-3\n",
    "\n",
    "    loss_before = get_loss(x, y)\n",
    "\n",
    "    gradient_w = np.empty(M)\n",
    "    for i in range(M):\n",
    "        w[i] += eps\n",
    "        loss_after = get_loss(x, y)\n",
    "        w[i] -= eps\n",
    "        gradient_w[i] = (loss_after - loss_before) / eps\n",
    "\n",
    "    b += eps\n",
    "    loss_after = get_loss(x, y)\n",
    "    b -= eps\n",
    "    gradient_b = (loss_after - loss_before) / eps\n",
    "\n",
    "    return gradient_w, gradient_b\n",
    "\n",
    "\n",
    "get_gradient(x[0], y[0])"
   ]
  },
  {
   "cell_type": "code",
   "execution_count": 6,
   "id": "f39e0125",
   "metadata": {},
   "outputs": [
    {
     "data": {
      "text/plain": [
       "11073.905141728206"
      ]
     },
     "execution_count": 6,
     "metadata": {},
     "output_type": "execute_result"
    }
   ],
   "source": [
    "def total_loss():\n",
    "    loss = 0\n",
    "    for i in range(N):\n",
    "        loss += get_loss(x[i], y[i])\n",
    "    return loss\n",
    "\n",
    "\n",
    "total_loss()"
   ]
  },
  {
   "cell_type": "code",
   "execution_count": 7,
   "id": "c371c6a4",
   "metadata": {},
   "outputs": [
    {
     "name": "stdout",
     "output_type": "stream",
     "text": [
      "0 [9.99999848e-07 9.99999845e-07] 9.999998984693441e-07 11059.213325989294\n",
      "500 [2.66451164e-06 2.89372373e-06] 3.595841972186342e-06 7623.402923852171\n",
      "1000 [1.49058551e-06 1.77039119e-06] 2.3569819378456833e-06 5116.6673548382705\n",
      "1500 [1.54060667e-07 1.52269411e-07] 4.854100489197519e-07 3453.7618700421162\n",
      "2000 [4.5399257e-06 3.6700749e-06] 4.182369642302336e-06 2259.06518603289\n",
      "2500 [1.65797772e-06 1.05985930e-06] 1.3383495167537935e-06 1438.5906667372406\n",
      "3000 [2.96914906e-07 6.56168224e-07] 6.131919613839703e-07 1051.9695231637406\n",
      "3500 [1.48431059e-06 1.85664992e-06] 3.2354643896326765e-06 886.751528580343\n",
      "4000 [3.06717189e-06 1.53765326e-06] 7.968217077828009e-06 826.4649373166238\n",
      "4500 [1.83228209e-06 1.98744616e-06] 3.0032937384269872e-06 794.0081885344441\n",
      "5000 [5.05157589e-07 6.08365156e-07] 6.43608532358165e-07 798.5606607279586\n"
     ]
    }
   ],
   "source": [
    "plt_x = []\n",
    "plt_y = []\n",
    "\n",
    "for epoch in range(5500):\n",
    "    i = np.random.randint(N)\n",
    "    gradient_w, gradient_b = get_gradient(x[i], y[i])\n",
    "\n",
    "    #ada_delta算法不需要设定超参数lr\n",
    "    #他需要维持两个变量,delta和S\n",
    "\n",
    "    #S的计算和rmsprop完全一致\n",
    "    S_w = 0.2 * S_w + 0.8 * gradient_w**2\n",
    "    S_b = 0.2 * S_b + 0.8 * gradient_b**2\n",
    "\n",
    "    #计算lr的公式,这里的1e-6是为了防止除0\n",
    "    lr = (delta_w + 1e-6) / (S_w + 1e-6)\n",
    "    gradient_w = lr**0.5 * gradient_w\n",
    "\n",
    "    lr = (delta_b + 1e-6) / (S_b + 1e-6)\n",
    "    gradient_b = lr**0.5 * gradient_b\n",
    "\n",
    "    #更新参数\n",
    "    w -= gradient_w\n",
    "    b -= gradient_b\n",
    "\n",
    "    #更新delta,这里的两个系数和计算S时用的要一样\n",
    "    delta_w = 0.2 * delta_w + 0.8 * gradient_w**2\n",
    "    delta_b = 0.2 * delta_b + 0.8 * gradient_b**2\n",
    "\n",
    "    #思考一下,在时刻0,S就是梯度的平方乘以0.8\n",
    "    #所以在一开始的时候,S是比较大的.但delta还是0\n",
    "    #所以一开始的时候lr是比较大的.\n",
    "    #delta更新为变量更新量的平方*0.8\n",
    "    #所以delta当中差不多相当于存储了变量更新量的历史信息\n",
    "    #所以最后的lr,应该是取两者的比值\n",
    "\n",
    "    plt_x.append(epoch)\n",
    "    plt_y.append(total_loss())\n",
    "\n",
    "    if epoch % 500 == 0:\n",
    "        print(epoch, delta_w[:2], delta_b, total_loss())"
   ]
  },
  {
   "cell_type": "code",
   "execution_count": 8,
   "id": "0471a70d",
   "metadata": {
    "scrolled": true
   },
   "outputs": [
    {
     "data": {
      "image/png": "[encoded data removed]",
      "text/plain": [
       "<Figure size 432x288 with 1 Axes>"
      ]
     },
     "metadata": {
      "needs_background": "light"
     },
     "output_type": "display_data"
    }
   ],
   "source": [
    "from matplotlib import pyplot as plt\n",
    "%matplotlib inline\n",
    "\n",
    "plt.plot(plt_x, plt_y)\n",
    "plt.show()"
   ]
  }
 ],
 "metadata": {
  "kernelspec": {
   "display_name": "Python 3 (ipykernel)",
   "language": "python",
   "name": "python3"
  },
  "language_info": {
   "codemirror_mode": {
    "name": "ipython",
    "version": 3
   },
   "file_extension": ".py",
   "mimetype": "text/x-python",
   "name": "python",
   "nbconvert_exporter": "python",
   "pygments_lexer": "ipython3",
   "version": "3.8.11"
  }
 },
 "nbformat": 4,
 "nbformat_minor": 5
}
