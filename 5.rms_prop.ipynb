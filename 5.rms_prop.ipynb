{
 "cells": [
  {
   "cell_type": "code",
   "execution_count": 1,
   "id": "4fcd93aa",
   "metadata": {},
   "outputs": [
    {
     "data": {
      "text/plain": [
       "((1503, 5), (1503,))"
      ]
     },
     "execution_count": 1,
     "metadata": {},
     "output_type": "execute_result"
    }
   ],
   "source": [
    "import numpy as np\n",
    "\n",
    "#加载数据\n",
    "data = np.loadtxt(fname='./线性数据.csv', delimiter='\\t')\n",
    "\n",
    "#标准化\n",
    "data -= data.mean(axis=0)\n",
    "data /= data.std(axis=0)\n",
    "\n",
    "x = data[:, :-1]\n",
    "y = data[:, -1]\n",
    "\n",
    "x.shape, y.shape"
   ]
  },
  {
   "cell_type": "code",
   "execution_count": 2,
   "id": "cc6c8e3c",
   "metadata": {},
   "outputs": [
    {
     "data": {
      "text/plain": [
       "array([0., 0., 0., 0., 0.])"
      ]
     },
     "execution_count": 2,
     "metadata": {},
     "output_type": "execute_result"
    }
   ],
   "source": [
    "#常量\n",
    "N, M = x.shape\n",
    "\n",
    "#变量\n",
    "w = np.ones(M)\n",
    "b = 0\n",
    "\n",
    "#初始化S为全0\n",
    "S_w = np.zeros(M)\n",
    "S_b = 0\n",
    "\n",
    "S_w"
   ]
  },
  {
   "cell_type": "code",
   "execution_count": 3,
   "id": "92163201",
   "metadata": {},
   "outputs": [
    {
     "data": {
      "text/plain": [
       "0.6590042695516539"
      ]
     },
     "execution_count": 3,
     "metadata": {},
     "output_type": "execute_result"
    }
   ],
   "source": [
    "#预测函数\n",
    "def predict(x):\n",
    "    return w.dot(x) + b\n",
    "\n",
    "\n",
    "predict(x[0])"
   ]
  },
  {
   "cell_type": "code",
   "execution_count": 4,
   "id": "a7bb7a80",
   "metadata": {},
   "outputs": [
    {
     "data": {
      "text/plain": [
       "0.21258140154187247"
      ]
     },
     "execution_count": 4,
     "metadata": {},
     "output_type": "execute_result"
    }
   ],
   "source": [
    "#求loss,MSELoss\n",
    "def get_loss(x, y):\n",
    "    pred = predict(x)\n",
    "    loss = (pred - y)**2\n",
    "    return loss\n",
    "\n",
    "\n",
    "get_loss(x[0], y[0])"
   ]
  },
  {
   "cell_type": "code",
   "execution_count": 5,
   "id": "8027d213",
   "metadata": {},
   "outputs": [
    {
     "data": {
      "text/plain": [
       "(array([-0.61003339, -1.05581946,  1.66242713,  1.21242212, -0.59417855]),\n",
       " 0.923131013558981)"
      ]
     },
     "execution_count": 5,
     "metadata": {},
     "output_type": "execute_result"
    }
   ],
   "source": [
    "def get_gradient(x, y):\n",
    "    global w\n",
    "    global b\n",
    "\n",
    "    eps = 1e-3\n",
    "\n",
    "    loss_before = get_loss(x, y)\n",
    "\n",
    "    gradient_w = np.empty(M)\n",
    "    for i in range(M):\n",
    "        w[i] += eps\n",
    "        loss_after = get_loss(x, y)\n",
    "        w[i] -= eps\n",
    "        gradient_w[i] = (loss_after - loss_before) / eps\n",
    "\n",
    "    b += eps\n",
    "    loss_after = get_loss(x, y)\n",
    "    b -= eps\n",
    "    gradient_b = (loss_after - loss_before) / eps\n",
    "\n",
    "    return gradient_w, gradient_b\n",
    "\n",
    "\n",
    "get_gradient(x[0], y[0])"
   ]
  },
  {
   "cell_type": "code",
   "execution_count": 6,
   "id": "f39e0125",
   "metadata": {},
   "outputs": [
    {
     "data": {
      "text/plain": [
       "11073.905141728206"
      ]
     },
     "execution_count": 6,
     "metadata": {},
     "output_type": "execute_result"
    }
   ],
   "source": [
    "def total_loss():\n",
    "    loss = 0\n",
    "    for i in range(N):\n",
    "        loss += get_loss(x[i], y[i])\n",
    "    return loss\n",
    "\n",
    "\n",
    "total_loss()"
   ]
  },
  {
   "cell_type": "code",
   "execution_count": 7,
   "id": "c371c6a4",
   "metadata": {},
   "outputs": [
    {
     "name": "stdout",
     "output_type": "stream",
     "text": [
      "0 [0.03958159 0.27025833 0.02398688 0.01927508 0.14615574] 0.02361214173223676 11034.03164331331\n",
      "150 [0.01700978 0.00293627 0.0021465  0.01023901 0.00448094] 0.003719994094799524 4979.224195964695\n",
      "300 [0.00829406 0.00826238 0.00945628 0.00486571 0.0103127 ] 0.005582488611823308 2445.161940545668\n",
      "450 [0.01226147 0.00684182 0.00416034 0.00593345 0.01256688] 0.0073519130363967405 1287.875118994094\n",
      "600 [0.00844093 0.00312082 0.00452767 0.00758828 0.01187385] 0.005493573161449282 900.6215520780013\n",
      "750 [0.11670921 0.0705885  0.03646915 0.02734915 0.06524709] 0.035692618382221694 856.7360048285658\n",
      "900 [0.02025476 0.00948149 0.01460042 0.00809648 0.01693454] 0.010210937205585344 861.214203341397\n",
      "1050 [0.00352351 0.00110735 0.00243044 0.0021937  0.00365707] 0.0028662399277710917 775.9776614647038\n",
      "1200 [0.01246372 0.02360818 0.03399182 0.01082176 0.0318842 ] 0.014019808468636433 814.0867444440322\n",
      "1350 [0.00640614 0.00549365 0.00637767 0.00851496 0.00876002] 0.006243274919967881 827.8446015140992\n",
      "1500 [0.02138013 0.00650154 0.01352545 0.0187859  0.01879941] 0.015964910354415923 832.1277936776378\n",
      "1650 [0.01382682 0.0141495  0.03961791 0.011089   0.01038426] 0.00936463859850979 853.8249960818205\n",
      "1800 [0.00697716 0.00354596 0.01370111 0.00401962 0.00213506] 0.005269410179021477 921.0643501373988\n",
      "1950 [0.03337106 0.01503151 0.02493217 0.01241268 0.02332292] 0.01629740419865334 817.2389115044728\n",
      "2100 [0.02155578 0.00386583 0.00825735 0.00756442 0.01290041] 0.009892413266924683 813.4567820829392\n",
      "2250 [0.01657198 0.00574492 0.00565889 0.00913056 0.00817122] 0.006633213748165623 827.3322847560261\n",
      "2400 [0.05226654 0.0941008  0.02347293 0.01696419 0.09952401] 0.021861552859957 896.2415343415953\n"
     ]
    }
   ],
   "source": [
    "plt_x = []\n",
    "plt_y = []\n",
    "for epoch in range(2500):\n",
    "    i = np.random.randint(N)\n",
    "    gradient_w, gradient_b = get_gradient(x[i], y[i])\n",
    "\n",
    "    #和adagrad唯一的区别,就是多了两个系数,也就是0.2和0.8\n",
    "    #rmsprop是对adagrad的一个改进,在adagrad中lr是单调递减的.\n",
    "    #但是在rmsprop中lr可能上升\n",
    "    S_w = 0.2 * S_w + 0.8 * gradient_w**2\n",
    "    S_b = 0.2 * S_b + 0.8 * gradient_b**2\n",
    "\n",
    "    #这部分和adagrad没有任何区别\n",
    "    lr_w = 1e-2 / ((S_w + 1e-6)**0.5)\n",
    "    lr_b = 1e-2 / ((S_b + 1e-6)**0.5)\n",
    "\n",
    "    w -= gradient_w * lr_w\n",
    "    b -= gradient_b * lr_b\n",
    "\n",
    "    plt_x.append(epoch)\n",
    "    plt_y.append(total_loss())\n",
    "\n",
    "    if epoch % 150 == 0:\n",
    "        print(epoch, lr_w, lr_b, total_loss())"
   ]
  },
  {
   "cell_type": "code",
   "execution_count": 8,
   "id": "0471a70d",
   "metadata": {
    "scrolled": true
   },
   "outputs": [
    {
     "data": {
      "image/png": "[encoded data removed]",
      "text/plain": [
       "<Figure size 432x288 with 1 Axes>"
      ]
     },
     "metadata": {
      "needs_background": "light"
     },
     "output_type": "display_data"
    }
   ],
   "source": [
    "from matplotlib import pyplot as plt\n",
    "%matplotlib inline\n",
    "\n",
    "plt.plot(plt_x, plt_y)\n",
    "plt.show()"
   ]
  }
 ],
 "metadata": {
  "kernelspec": {
   "display_name": "Python 3 (ipykernel)",
   "language": "python",
   "name": "python3"
  },
  "language_info": {
   "codemirror_mode": {
    "name": "ipython",
    "version": 3
   },
   "file_extension": ".py",
   "mimetype": "text/x-python",
   "name": "python",
   "nbconvert_exporter": "python",
   "pygments_lexer": "ipython3",
   "version": "3.8.11"
  }
 },
 "nbformat": 4,
 "nbformat_minor": 5
}
